{
 "cells": [
  {
   "cell_type": "code",
   "execution_count": 41,
   "id": "9aeacdbf",
   "metadata": {},
   "outputs": [
    {
     "name": "stdout",
     "output_type": "stream",
     "text": [
      "Requirement already satisfied: pandas in c:\\users\\dell\\anaconda3\\lib\\site-packages (1.4.4)Note: you may need to restart the kernel to use updated packages.\n",
      "\n",
      "Collecting playsound\n",
      "  Downloading playsound-1.3.0.tar.gz (7.7 kB)\n",
      "  Preparing metadata (setup.py): started\n",
      "  Preparing metadata (setup.py): finished with status 'done'\n",
      "Requirement already satisfied: python-dateutil>=2.8.1 in c:\\users\\dell\\anaconda3\\lib\\site-packages (from pandas) (2.8.2)\n",
      "Requirement already satisfied: pytz>=2020.1 in c:\\users\\dell\\anaconda3\\lib\\site-packages (from pandas) (2022.1)\n",
      "Requirement already satisfied: numpy>=1.18.5 in c:\\users\\dell\\anaconda3\\lib\\site-packages (from pandas) (1.24.4)\n",
      "Requirement already satisfied: six>=1.5 in c:\\users\\dell\\anaconda3\\lib\\site-packages (from python-dateutil>=2.8.1->pandas) (1.16.0)\n",
      "Building wheels for collected packages: playsound\n",
      "  Building wheel for playsound (setup.py): started\n",
      "  Building wheel for playsound (setup.py): finished with status 'done'\n",
      "  Created wheel for playsound: filename=playsound-1.3.0-py3-none-any.whl size=7020 sha256=181f036a79b8d5df3bf635bf5b1096341430b1cd200953275c6a09214e5dd007\n",
      "  Stored in directory: c:\\users\\dell\\appdata\\local\\pip\\cache\\wheels\\ba\\39\\54\\c8f7ff9a88a644d3c58b4dec802d90b79a2e0fb2a6b884bf82\n",
      "Successfully built playsound\n",
      "Installing collected packages: playsound\n",
      "Successfully installed playsound-1.3.0\n"
     ]
    }
   ],
   "source": [
    "pip install pandas playsound\n"
   ]
  },
  {
   "cell_type": "code",
   "execution_count": null,
   "id": "4819fa56",
   "metadata": {},
   "outputs": [
    {
     "name": "stdout",
     "output_type": "stream",
     "text": [
      "Tomorrow's Sunrise Time: 7:24 am\n",
      "Alarm is set for: 2025-01-15 07:24 AM\n"
     ]
    }
   ],
   "source": [
    "import pandas as pd\n",
    "from datetime import datetime, timedelta\n",
    "import time\n",
    "from playsound import playsound\n",
    "\n",
    "# Function to play alarm sound\n",
    "def play_alarm():\n",
    "    print(\"⏰ Wake up! It's Sunrise Time!\")\n",
    "    playsound('soft_morning_alarm.mp3')  # Replace with the path to your alarm sound file\n",
    "\n",
    "# Step 1: Get Sunrise Time from the website\n",
    "url = \"https://www.timeanddate.com/sun/usa/baltimore?month=1&year=2025\"\n",
    "tables = pd.read_html(url)\n",
    "second_table = tables[1]\n",
    "\n",
    "# Step 2: Extract tomorrow's sunrise time\n",
    "today_day = datetime.now().day\n",
    "tomorrow_row = second_table[second_table.iloc[:, 0].astype(str).str.strip() == str(today_day+1)]\n",
    "sunrise_time = tomorrow_row.iloc[0, 1] if not tomorrow_row.empty else \"07:00 AM\"\n",
    "sunrise_time=sunrise_time[:7]\n",
    "\n",
    "print(f\"Tomorrow's Sunrise Time: {sunrise_time}\")\n",
    "\n",
    "# Step 3: Convert sunrise time to datetime\n",
    "alarm_time = datetime.strptime(sunrise_time, '%I:%M %p').replace(\n",
    "    year=datetime.now().year,\n",
    "    month=datetime.now().month,\n",
    "    day=datetime.now().day\n",
    ")\n",
    "\n",
    "# If the alarm time has passed for tomorrow, set it for next_day\n",
    "if alarm_time < datetime.now():\n",
    "    alarm_time += timedelta(days=1)\n",
    "\n",
    "print(f\"Alarm is set for: {alarm_time.strftime('%Y-%m-%d %I:%M %p')}\")\n",
    "\n",
    "# Step 4: Wait until the alarm time\n",
    "while datetime.now() < alarm_time:\n",
    "    time.sleep(30)  # Check every 30 seconds\n",
    "\n",
    "# Step 5: Trigger the alarm\n",
    "play_alarm()\n"
   ]
  },
  {
   "cell_type": "code",
   "execution_count": null,
   "id": "1d732067",
   "metadata": {},
   "outputs": [],
   "source": []
  }
 ],
 "metadata": {
  "kernelspec": {
   "display_name": "Python 3 (ipykernel)",
   "language": "python",
   "name": "python3"
  },
  "language_info": {
   "codemirror_mode": {
    "name": "ipython",
    "version": 3
   },
   "file_extension": ".py",
   "mimetype": "text/x-python",
   "name": "python",
   "nbconvert_exporter": "python",
   "pygments_lexer": "ipython3",
   "version": "3.9.13"
  }
 },
 "nbformat": 4,
 "nbformat_minor": 5
}
